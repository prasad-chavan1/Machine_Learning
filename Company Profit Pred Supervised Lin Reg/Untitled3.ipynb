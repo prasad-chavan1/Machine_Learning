{
  "nbformat": 4,
  "nbformat_minor": 0,
  "metadata": {
    "colab": {
      "provenance": []
    },
    "kernelspec": {
      "name": "python3",
      "display_name": "Python 3"
    },
    "language_info": {
      "name": "python"
    }
  },
  "cells": [
    {
      "cell_type": "markdown",
      "source": [
        "## Linear Reg Learning\n",
        "## Company data handling"
      ],
      "metadata": {
        "id": "6RHrGzBGRSQe"
      }
    },
    {
      "cell_type": "code",
      "source": [
        "import numpy as np\n",
        "import pandas as pd\n",
        "import matplotlib.pyplot as plt\n",
        "import seaborn as sns\n",
        "%matplotlib inline\n",
        "import joblib"
      ],
      "metadata": {
        "id": "1fggoicYxso4"
      },
      "execution_count": 77,
      "outputs": []
    },
    {
      "cell_type": "code",
      "source": [
        "df = pd.read_csv('1000_Companies.csv')\n",
        "df.drop('State', axis=1, inplace = True)\n",
        "df.head()"
      ],
      "metadata": {
        "colab": {
          "base_uri": "https://localhost:8080/",
          "height": 206
        },
        "id": "oGqw1WQWRI_p",
        "outputId": "85581b68-06d7-4936-a266-3e5fa113e4af"
      },
      "execution_count": 78,
      "outputs": [
        {
          "output_type": "execute_result",
          "data": {
            "text/plain": [
              "   R&D Spend  Administration  Marketing Spend     Profit\n",
              "0  165349.20       136897.80        471784.10  192261.83\n",
              "1  162597.70       151377.59        443898.53  191792.06\n",
              "2  153441.51       101145.55        407934.54  191050.39\n",
              "3  144372.41       118671.85        383199.62  182901.99\n",
              "4  142107.34        91391.77        366168.42  166187.94"
            ],
            "text/html": [
              "\n",
              "  <div id=\"df-ac6267e9-ccf9-49da-9b2f-aa83a356e836\" class=\"colab-df-container\">\n",
              "    <div>\n",
              "<style scoped>\n",
              "    .dataframe tbody tr th:only-of-type {\n",
              "        vertical-align: middle;\n",
              "    }\n",
              "\n",
              "    .dataframe tbody tr th {\n",
              "        vertical-align: top;\n",
              "    }\n",
              "\n",
              "    .dataframe thead th {\n",
              "        text-align: right;\n",
              "    }\n",
              "</style>\n",
              "<table border=\"1\" class=\"dataframe\">\n",
              "  <thead>\n",
              "    <tr style=\"text-align: right;\">\n",
              "      <th></th>\n",
              "      <th>R&amp;D Spend</th>\n",
              "      <th>Administration</th>\n",
              "      <th>Marketing Spend</th>\n",
              "      <th>Profit</th>\n",
              "    </tr>\n",
              "  </thead>\n",
              "  <tbody>\n",
              "    <tr>\n",
              "      <th>0</th>\n",
              "      <td>165349.20</td>\n",
              "      <td>136897.80</td>\n",
              "      <td>471784.10</td>\n",
              "      <td>192261.83</td>\n",
              "    </tr>\n",
              "    <tr>\n",
              "      <th>1</th>\n",
              "      <td>162597.70</td>\n",
              "      <td>151377.59</td>\n",
              "      <td>443898.53</td>\n",
              "      <td>191792.06</td>\n",
              "    </tr>\n",
              "    <tr>\n",
              "      <th>2</th>\n",
              "      <td>153441.51</td>\n",
              "      <td>101145.55</td>\n",
              "      <td>407934.54</td>\n",
              "      <td>191050.39</td>\n",
              "    </tr>\n",
              "    <tr>\n",
              "      <th>3</th>\n",
              "      <td>144372.41</td>\n",
              "      <td>118671.85</td>\n",
              "      <td>383199.62</td>\n",
              "      <td>182901.99</td>\n",
              "    </tr>\n",
              "    <tr>\n",
              "      <th>4</th>\n",
              "      <td>142107.34</td>\n",
              "      <td>91391.77</td>\n",
              "      <td>366168.42</td>\n",
              "      <td>166187.94</td>\n",
              "    </tr>\n",
              "  </tbody>\n",
              "</table>\n",
              "</div>\n",
              "    <div class=\"colab-df-buttons\">\n",
              "\n",
              "  <div class=\"colab-df-container\">\n",
              "    <button class=\"colab-df-convert\" onclick=\"convertToInteractive('df-ac6267e9-ccf9-49da-9b2f-aa83a356e836')\"\n",
              "            title=\"Convert this dataframe to an interactive table.\"\n",
              "            style=\"display:none;\">\n",
              "\n",
              "  <svg xmlns=\"http://www.w3.org/2000/svg\" height=\"24px\" viewBox=\"0 -960 960 960\">\n",
              "    <path d=\"M120-120v-720h720v720H120Zm60-500h600v-160H180v160Zm220 220h160v-160H400v160Zm0 220h160v-160H400v160ZM180-400h160v-160H180v160Zm440 0h160v-160H620v160ZM180-180h160v-160H180v160Zm440 0h160v-160H620v160Z\"/>\n",
              "  </svg>\n",
              "    </button>\n",
              "\n",
              "  <style>\n",
              "    .colab-df-container {\n",
              "      display:flex;\n",
              "      gap: 12px;\n",
              "    }\n",
              "\n",
              "    .colab-df-convert {\n",
              "      background-color: #E8F0FE;\n",
              "      border: none;\n",
              "      border-radius: 50%;\n",
              "      cursor: pointer;\n",
              "      display: none;\n",
              "      fill: #1967D2;\n",
              "      height: 32px;\n",
              "      padding: 0 0 0 0;\n",
              "      width: 32px;\n",
              "    }\n",
              "\n",
              "    .colab-df-convert:hover {\n",
              "      background-color: #E2EBFA;\n",
              "      box-shadow: 0px 1px 2px rgba(60, 64, 67, 0.3), 0px 1px 3px 1px rgba(60, 64, 67, 0.15);\n",
              "      fill: #174EA6;\n",
              "    }\n",
              "\n",
              "    .colab-df-buttons div {\n",
              "      margin-bottom: 4px;\n",
              "    }\n",
              "\n",
              "    [theme=dark] .colab-df-convert {\n",
              "      background-color: #3B4455;\n",
              "      fill: #D2E3FC;\n",
              "    }\n",
              "\n",
              "    [theme=dark] .colab-df-convert:hover {\n",
              "      background-color: #434B5C;\n",
              "      box-shadow: 0px 1px 3px 1px rgba(0, 0, 0, 0.15);\n",
              "      filter: drop-shadow(0px 1px 2px rgba(0, 0, 0, 0.3));\n",
              "      fill: #FFFFFF;\n",
              "    }\n",
              "  </style>\n",
              "\n",
              "    <script>\n",
              "      const buttonEl =\n",
              "        document.querySelector('#df-ac6267e9-ccf9-49da-9b2f-aa83a356e836 button.colab-df-convert');\n",
              "      buttonEl.style.display =\n",
              "        google.colab.kernel.accessAllowed ? 'block' : 'none';\n",
              "\n",
              "      async function convertToInteractive(key) {\n",
              "        const element = document.querySelector('#df-ac6267e9-ccf9-49da-9b2f-aa83a356e836');\n",
              "        const dataTable =\n",
              "          await google.colab.kernel.invokeFunction('convertToInteractive',\n",
              "                                                    [key], {});\n",
              "        if (!dataTable) return;\n",
              "\n",
              "        const docLinkHtml = 'Like what you see? Visit the ' +\n",
              "          '<a target=\"_blank\" href=https://colab.research.google.com/notebooks/data_table.ipynb>data table notebook</a>'\n",
              "          + ' to learn more about interactive tables.';\n",
              "        element.innerHTML = '';\n",
              "        dataTable['output_type'] = 'display_data';\n",
              "        await google.colab.output.renderOutput(dataTable, element);\n",
              "        const docLink = document.createElement('div');\n",
              "        docLink.innerHTML = docLinkHtml;\n",
              "        element.appendChild(docLink);\n",
              "      }\n",
              "    </script>\n",
              "  </div>\n",
              "\n",
              "\n",
              "<div id=\"df-c8192118-79cf-48b8-b6d1-a5b241a99123\">\n",
              "  <button class=\"colab-df-quickchart\" onclick=\"quickchart('df-c8192118-79cf-48b8-b6d1-a5b241a99123')\"\n",
              "            title=\"Suggest charts\"\n",
              "            style=\"display:none;\">\n",
              "\n",
              "<svg xmlns=\"http://www.w3.org/2000/svg\" height=\"24px\"viewBox=\"0 0 24 24\"\n",
              "     width=\"24px\">\n",
              "    <g>\n",
              "        <path d=\"M19 3H5c-1.1 0-2 .9-2 2v14c0 1.1.9 2 2 2h14c1.1 0 2-.9 2-2V5c0-1.1-.9-2-2-2zM9 17H7v-7h2v7zm4 0h-2V7h2v10zm4 0h-2v-4h2v4z\"/>\n",
              "    </g>\n",
              "</svg>\n",
              "  </button>\n",
              "\n",
              "<style>\n",
              "  .colab-df-quickchart {\n",
              "      --bg-color: #E8F0FE;\n",
              "      --fill-color: #1967D2;\n",
              "      --hover-bg-color: #E2EBFA;\n",
              "      --hover-fill-color: #174EA6;\n",
              "      --disabled-fill-color: #AAA;\n",
              "      --disabled-bg-color: #DDD;\n",
              "  }\n",
              "\n",
              "  [theme=dark] .colab-df-quickchart {\n",
              "      --bg-color: #3B4455;\n",
              "      --fill-color: #D2E3FC;\n",
              "      --hover-bg-color: #434B5C;\n",
              "      --hover-fill-color: #FFFFFF;\n",
              "      --disabled-bg-color: #3B4455;\n",
              "      --disabled-fill-color: #666;\n",
              "  }\n",
              "\n",
              "  .colab-df-quickchart {\n",
              "    background-color: var(--bg-color);\n",
              "    border: none;\n",
              "    border-radius: 50%;\n",
              "    cursor: pointer;\n",
              "    display: none;\n",
              "    fill: var(--fill-color);\n",
              "    height: 32px;\n",
              "    padding: 0;\n",
              "    width: 32px;\n",
              "  }\n",
              "\n",
              "  .colab-df-quickchart:hover {\n",
              "    background-color: var(--hover-bg-color);\n",
              "    box-shadow: 0 1px 2px rgba(60, 64, 67, 0.3), 0 1px 3px 1px rgba(60, 64, 67, 0.15);\n",
              "    fill: var(--button-hover-fill-color);\n",
              "  }\n",
              "\n",
              "  .colab-df-quickchart-complete:disabled,\n",
              "  .colab-df-quickchart-complete:disabled:hover {\n",
              "    background-color: var(--disabled-bg-color);\n",
              "    fill: var(--disabled-fill-color);\n",
              "    box-shadow: none;\n",
              "  }\n",
              "\n",
              "  .colab-df-spinner {\n",
              "    border: 2px solid var(--fill-color);\n",
              "    border-color: transparent;\n",
              "    border-bottom-color: var(--fill-color);\n",
              "    animation:\n",
              "      spin 1s steps(1) infinite;\n",
              "  }\n",
              "\n",
              "  @keyframes spin {\n",
              "    0% {\n",
              "      border-color: transparent;\n",
              "      border-bottom-color: var(--fill-color);\n",
              "      border-left-color: var(--fill-color);\n",
              "    }\n",
              "    20% {\n",
              "      border-color: transparent;\n",
              "      border-left-color: var(--fill-color);\n",
              "      border-top-color: var(--fill-color);\n",
              "    }\n",
              "    30% {\n",
              "      border-color: transparent;\n",
              "      border-left-color: var(--fill-color);\n",
              "      border-top-color: var(--fill-color);\n",
              "      border-right-color: var(--fill-color);\n",
              "    }\n",
              "    40% {\n",
              "      border-color: transparent;\n",
              "      border-right-color: var(--fill-color);\n",
              "      border-top-color: var(--fill-color);\n",
              "    }\n",
              "    60% {\n",
              "      border-color: transparent;\n",
              "      border-right-color: var(--fill-color);\n",
              "    }\n",
              "    80% {\n",
              "      border-color: transparent;\n",
              "      border-right-color: var(--fill-color);\n",
              "      border-bottom-color: var(--fill-color);\n",
              "    }\n",
              "    90% {\n",
              "      border-color: transparent;\n",
              "      border-bottom-color: var(--fill-color);\n",
              "    }\n",
              "  }\n",
              "</style>\n",
              "\n",
              "  <script>\n",
              "    async function quickchart(key) {\n",
              "      const quickchartButtonEl =\n",
              "        document.querySelector('#' + key + ' button');\n",
              "      quickchartButtonEl.disabled = true;  // To prevent multiple clicks.\n",
              "      quickchartButtonEl.classList.add('colab-df-spinner');\n",
              "      try {\n",
              "        const charts = await google.colab.kernel.invokeFunction(\n",
              "            'suggestCharts', [key], {});\n",
              "      } catch (error) {\n",
              "        console.error('Error during call to suggestCharts:', error);\n",
              "      }\n",
              "      quickchartButtonEl.classList.remove('colab-df-spinner');\n",
              "      quickchartButtonEl.classList.add('colab-df-quickchart-complete');\n",
              "    }\n",
              "    (() => {\n",
              "      let quickchartButtonEl =\n",
              "        document.querySelector('#df-c8192118-79cf-48b8-b6d1-a5b241a99123 button');\n",
              "      quickchartButtonEl.style.display =\n",
              "        google.colab.kernel.accessAllowed ? 'block' : 'none';\n",
              "    })();\n",
              "  </script>\n",
              "</div>\n",
              "\n",
              "    </div>\n",
              "  </div>\n"
            ],
            "application/vnd.google.colaboratory.intrinsic+json": {
              "type": "dataframe",
              "variable_name": "df",
              "summary": "{\n  \"name\": \"df\",\n  \"rows\": 1000,\n  \"fields\": [\n    {\n      \"column\": \"R&D Spend\",\n      \"properties\": {\n        \"dtype\": \"number\",\n        \"std\": 46537.56789148918,\n        \"min\": 0.0,\n        \"max\": 165349.2,\n        \"num_unique_values\": 997,\n        \"samples\": [\n          36880.0,\n          12564.0,\n          141203.0\n        ],\n        \"semantic_type\": \"\",\n        \"description\": \"\"\n      }\n    },\n    {\n      \"column\": \"Administration\",\n      \"properties\": {\n        \"dtype\": \"number\",\n        \"std\": 12613.927534630991,\n        \"min\": 51283.14,\n        \"max\": 321652.14,\n        \"num_unique_values\": 998,\n        \"samples\": [\n          116766.4752,\n          131428.4501,\n          112593.9434\n        ],\n        \"semantic_type\": \"\",\n        \"description\": \"\"\n      }\n    },\n    {\n      \"column\": \"Marketing Spend\",\n      \"properties\": {\n        \"dtype\": \"number\",\n        \"std\": 91578.39354210424,\n        \"min\": 0.0,\n        \"max\": 471784.1,\n        \"num_unique_values\": 996,\n        \"samples\": [\n          281778.7751,\n          277273.3863,\n          255207.593\n        ],\n        \"semantic_type\": \"\",\n        \"description\": \"\"\n      }\n    },\n    {\n      \"column\": \"Profit\",\n      \"properties\": {\n        \"dtype\": \"number\",\n        \"std\": 42888.63384847688,\n        \"min\": 14681.4,\n        \"max\": 476485.43,\n        \"num_unique_values\": 998,\n        \"samples\": [\n          85529.93509,\n          170343.1281,\n          61393.64099\n        ],\n        \"semantic_type\": \"\",\n        \"description\": \"\"\n      }\n    }\n  ]\n}"
            }
          },
          "metadata": {},
          "execution_count": 78
        }
      ]
    },
    {
      "cell_type": "code",
      "source": [
        "from re import X\n",
        "x = x = df.drop('Profit', axis=1)\n",
        "y = df.Profit"
      ],
      "metadata": {
        "id": "ASw6WLuQVj65"
      },
      "execution_count": 79,
      "outputs": []
    },
    {
      "cell_type": "code",
      "source": [
        "## Model\n",
        "from sklearn.model_selection import train_test_split\n",
        "X_train, X_test, y_train, y_test = train_test_split(x, y, test_size = 0.50, random_state = 42)"
      ],
      "metadata": {
        "id": "bxPd8NmyWO5p"
      },
      "execution_count": 80,
      "outputs": []
    },
    {
      "cell_type": "code",
      "source": [
        "# Standardizing the Data\n",
        "from sklearn.preprocessing import StandardScaler\n",
        "scaler = StandardScaler()\n",
        "X_train = scaler.fit_transform(X_train)\n",
        "X_test = scaler.transform(X_test)"
      ],
      "metadata": {
        "id": "zsgflioIWq0G"
      },
      "execution_count": 81,
      "outputs": []
    },
    {
      "cell_type": "code",
      "source": [
        "# Implementation of Linear Regression\n",
        "from sklearn.linear_model import LinearRegression\n",
        "# Cross Validation\n",
        "from sklearn.model_selection import cross_val_score\n",
        "\n",
        "regression = LinearRegression()\n",
        "regression.fit(X_train, y_train)\n",
        "\n",
        "# Cross Validation Score\n",
        "meanSquaredError = cross_val_score(regression, X_train, y_train, scoring = 'neg_mean_squared_error', cv = 5)\n",
        "np.mean(meanSquaredError)"
      ],
      "metadata": {
        "colab": {
          "base_uri": "https://localhost:8080/"
        },
        "id": "ztJMjGQDYONL",
        "outputId": "69d3d33e-449f-42ba-bca3-42bb06dfa38f"
      },
      "execution_count": 82,
      "outputs": [
        {
          "output_type": "execute_result",
          "data": {
            "text/plain": [
              "-229866743.6934436"
            ]
          },
          "metadata": {},
          "execution_count": 82
        }
      ]
    },
    {
      "cell_type": "code",
      "source": [
        "# Making Predictions\n",
        "reg_pred = regression.predict(X_test)\n",
        "reg_pred"
      ],
      "metadata": {
        "colab": {
          "base_uri": "https://localhost:8080/"
        },
        "collapsed": true,
        "id": "PFgJaRpPZvUN",
        "outputId": "215b436f-1cfb-40e2-e343-9db4b0203d2d"
      },
      "execution_count": 83,
      "outputs": [
        {
          "output_type": "execute_result",
          "data": {
            "text/plain": [
              "array([124501.80964392, 111453.5267196 ,  91510.58296531, 127086.45079717,\n",
              "       161343.86896151,  91581.68842087, 154367.82217846, 138860.8319643 ,\n",
              "        87783.97067042,  91278.41922179, 167745.07503871, 163074.38773235,\n",
              "       105001.7757752 , 107890.54283706,  91764.16390504, 159578.22576613,\n",
              "       116483.16813768, 104335.2691257 , 120181.50957136, 105333.31583689,\n",
              "        75540.1220725 , 125506.70991846,  65247.81878329,  70075.28083698,\n",
              "       170021.30684578, 164227.49577462, 177850.61930312, 135069.96787886,\n",
              "       122142.47856919, 162120.88903315, 145040.15469242, 113083.81246553,\n",
              "       165466.27310865, 141352.95036411,  65270.94949742,  88781.16077516,\n",
              "        81937.90131719,  74143.71338607, 116470.3178208 , 169926.21406964,\n",
              "        60421.21353953,  88842.84264467, 121363.74518297, 141624.52187088,\n",
              "       168289.07476037, 147221.29372335, 152201.24698374, 138293.70152852,\n",
              "       141460.03695236,  74416.1414979 , 114184.66232601,  62590.35875725,\n",
              "       171247.23375987, 176723.21199769,  93458.99667024,  96768.38885326,\n",
              "       179910.10801127, 120692.72637243, 121715.84573135,  67806.7592011 ,\n",
              "       118480.97497632,  89938.55225639, 182341.40114942,  61449.24442624,\n",
              "       178937.76203692,  99439.27163915,  65321.49436323,  51313.71588422,\n",
              "        82599.26792127, 100070.65396576, 101837.15386928, 134382.90043628,\n",
              "       128303.81073167, 167254.19020837,  95411.1036617 , 105174.82767331,\n",
              "       101159.51011581,  48807.35597662,  65538.23756382, 185033.98559904,\n",
              "       165126.16616903,  68745.69416576, 160980.63130916, 178099.91680389,\n",
              "        96948.86665559, 169924.50065338, 354047.49929744,  98968.94749883,\n",
              "       140872.34582795,  50094.64253376, 104081.6880843 ,  68724.27686928,\n",
              "        54154.50810242,  54336.12697985,  65285.51333222, 175371.35132186,\n",
              "       112252.82079585,  78510.27478382, 101273.45026739, 168501.53441893,\n",
              "       127967.13062455, 141325.53621103, 164016.74942924, 109854.93856572,\n",
              "       107049.27077152, 118056.91226286, 118345.61762853, 172862.95577127,\n",
              "       155838.76315436, 134985.15529522,  77939.7176186 , 120961.09966571,\n",
              "       103552.25219885, 174269.64485493, 166950.06440143,  78411.75517517,\n",
              "        73940.67721049,  99484.67635788,  91984.33383647, 126533.88409732,\n",
              "        57110.95378762, 173306.72246802,  85694.49778787, 169043.82082601,\n",
              "        99468.39920849, 106251.69011153, 167031.45015117, 165878.34211029,\n",
              "        80969.83888346, 174794.79730143, 162521.82103249, 185676.50492935,\n",
              "       130852.47085391,  95430.80764499, 100721.74027567,  75391.91430476,\n",
              "       129727.63367285, 146269.50833874, 123548.04027433, 105512.36448716,\n",
              "       108650.94439431, 156112.04807598,  88613.24902553, 109475.42386426,\n",
              "        66426.62766406,  95298.87702804, 153213.00082161,  53258.40783294,\n",
              "       170826.59777724, 169527.85199134,  52640.73253176, 127233.80185678,\n",
              "        89693.53819459, 131913.05614274, 149277.355599  , 185382.65941659,\n",
              "       100859.66774783, 140192.13205038, 158999.95832804,  64041.59585249,\n",
              "       182323.41068406, 174627.74225992, 181174.58608075, 103577.95293568,\n",
              "        77728.97127322, 163812.8566486 ,  94240.86176192, 113674.93032217,\n",
              "       124045.19252862, 181075.20976397, 172983.74938592,  77342.60300842,\n",
              "       139290.03492513,  86347.29741236, 117255.90477036,  91380.36566294,\n",
              "       164720.95062906, 158666.70495316, 141244.15035822,  71802.37287698,\n",
              "        57939.37543376,  56817.96498395, 108097.0056418 ,  55009.48719324,\n",
              "       150822.82886296, 173713.65142285,  79901.54342483,  54280.44196583,\n",
              "       158844.89699836,  81692.88735705,  76585.286817  ,  63805.14866861,\n",
              "        57034.70818441,  94213.44760883,  75365.35675953,  63367.37882847,\n",
              "       135855.55482842, 117914.70125006, 138484.74399367,  73667.39228747,\n",
              "       137461.08352418,  59392.32584303, 163496.73713123, 120839.44934293,\n",
              "       170033.30055621, 103045.94692585, 166753.02518413, 174737.39887087,\n",
              "       174422.99276976, 149972.9899195 , 157467.3355857 ,  78793.84000102,\n",
              "        79405.51844601, 170827.45448537, 175541.8330956 , 184956.88328827,\n",
              "       119162.04556369,  90300.93320201, 135245.58979829, 143702.001043  ,\n",
              "       146170.98873009, 149493.24209007, 169118.35301241,  55359.92375817,\n",
              "        57508.45915737, 148601.0615123 ,  77232.08968794, 108609.30777002,\n",
              "       161793.63251348, 115959.72910884,  91931.21894794, 132331.97870772,\n",
              "        85031.41786921,  98624.55712025,  81280.73502548, 133824.08140328,\n",
              "        90825.22893898, 112012.09027607,  94525.28368724,  73880.70875723,\n",
              "       159911.32812152,  89729.51932727, 139009.89643877, 181878.78728057,\n",
              "       164524.76801822,  68949.5869478 , 115045.63827176, 181967.88330317,\n",
              "        52763.23956252,  98287.87701314,  56830.81540307, 161371.2831146 ,\n",
              "       178294.38599988,  71319.19831811,  59687.02806308, 135242.16306745,\n",
              "       133875.73855682, 103988.30862274,  70233.76889889, 131963.3422995 ,\n",
              "       164769.78207863, 121013.35794917, 164483.64683872, 117501.77554029,\n",
              "       153233.56141136,  86226.50379771,  79276.15785177,  51942.52818827,\n",
              "       124929.2991885 ,  94468.74196481, 142778.48661988,  73986.93863874,\n",
              "       112687.16390516, 141151.62760618, 174693.7075684 , 134362.63575333,\n",
              "       113781.16020229,  60461.47800992,  72694.18970666,  58038.75175081,\n",
              "       131303.091114  ,  87173.14903523,  58742.9529498 , 148034.294826  ,\n",
              "       172017.40036844,  70363.12949314, 128439.16818112,  72822.69359278,\n",
              "       142095.70271933, 104407.23128939, 120633.84314604,  93426.14724302,\n",
              "        88202.89333847,  91348.66807089, 102383.72361364,  65151.01259089,\n",
              "       159557.66517638, 106199.43182807, 176824.94950582, 105762.51869605,\n",
              "       155220.2312463 , 157650.6677766 , 160332.97183177, 145973.09280326,\n",
              "       163369.94666136,  95328.86120384, 161002.04860564, 174379.30146728,\n",
              "        57187.19949263, 106351.06642831,  55029.19117611, 184500.26617296,\n",
              "        79817.58754932, 120567.02112804,  87437.86697726,  85653.37660838,\n",
              "        85954.93229094, 156469.28887451, 152554.20424024, 128508.56022183,\n",
              "        84903.77069122, 109523.39860569, 107203.47539447, 106699.74024585,\n",
              "       173335.85003596, 103344.07587618, 172751.58574406, 107437.35245398,\n",
              "       144575.82740871, 137113.17933456,  98527.75092785,  83509.07531798,\n",
              "       168758.54219256,  68651.45799607, 193934.2146394 , 159845.51383254,\n",
              "        53517.12892017,  56895.06729529,  97603.37969493, 154292.43328254,\n",
              "       185290.13666455, 125872.51759352,  65882.62794241,  86739.66263405,\n",
              "        67912.98908122, 156504.41319739, 142509.48513722, 161825.33010553,\n",
              "        63724.6196256 , 158276.90995612, 110421.21229198,  56179.72909344,\n",
              "       166766.73220914, 184345.20484188, 181905.34472553, 179233.32096454,\n",
              "       103416.89474939,  68998.41839876, 136082.57832319, 129479.19277854,\n",
              "       185431.49086755,  90619.62274209, 149049.47539471,  97395.20347533,\n",
              "       102141.27967622, 168025.93478827, 120667.25415434,  76326.56573019,\n",
              "        64638.71046268,  99363.02603511, 178057.93891766,  70312.58462592,\n",
              "       138350.24325094,  89003.04412284, 178717.37088561, 105040.32693058,\n",
              "        67354.42562642, 122557.97440333,  84498.55515125, 130676.84893448,\n",
              "        52355.45399984, 152832.62931035, 154489.47260291, 113389.65168873,\n",
              "        66076.24042887,  93752.54705596, 156662.90136098, 101195.49124849,\n",
              "       165677.87605909, 141688.7737631 , 117566.88414064,  43169.52507012,\n",
              "       145110.40344125, 152092.44707952, 116415.48951463, 114488.78813295,\n",
              "        52255.22097466, 162779.68551285,  60296.13638439, 253076.98253258,\n",
              "        91053.22405438, 145531.89613061, 143346.47366212, 152083.88009992,\n",
              "       185267.86265855, 124999.54793733,  83670.9902124 , 116740.17590992,\n",
              "        82269.44137889,  84930.32813479, 135906.09969424,  65811.52248684,\n",
              "       140566.50670643, 126744.6304413 , 143211.97302106, 111043.17103255,\n",
              "       136582.03003285, 124810.21888983, 169762.58575897, 161459.52242908,\n",
              "       118344.72729436,  62017.2315689 ,  73962.95121649, 147491.15181386,\n",
              "        85893.25042143, 167730.5112039 ,  67546.32469664, 114727.80533814,\n",
              "        56662.90365288, 143046.63139581,  73823.31032668,  80614.31150258,\n",
              "       150781.70758319, 139354.28681735,  61346.44137821, 132516.60470578,\n",
              "       122797.84831666, 154345.54817247, 129241.03228147, 101125.24239938,\n",
              "       182493.03574827,  54095.39635742,  60924.09198017, 141362.37395016,\n",
              "       176148.3713935 ,  84704.16134815, 185471.75543919, 154856.99359255,\n",
              "       168641.17530875,  74595.19025123, 130137.98935991, 139182.09162876,\n",
              "       158016.47545305, 152579.90507875, 118550.3671173 , 157917.09913628,\n",
              "       167761.35218949, 163088.09475875,  92628.56658303,  77949.14130632,\n",
              "       168815.94062172, 136552.90246351,  65580.21545144,  63154.06246038,\n",
              "       155084.01708872,  98660.53825293, 122533.98708275,  80190.24868744,\n",
              "       180915.00818414, 165533.95173171,  58714.68208872, 116189.32262631,\n",
              "       161803.91280766, 111961.54540886, 135770.74224478,  83295.7589499 ,\n",
              "        96735.55028751, 102288.6308375 , 182454.48459288, 177213.2401213 ,\n",
              "       154506.60635876, 156275.67638804, 101019.08944397,  53210.4330908 ,\n",
              "       183491.08245946,  76335.30720345,  51720.48363024, 182422.78700083,\n",
              "       142572.02371486, 139404.83168456,  82343.97356528,  57586.41817697,\n",
              "        65936.59954045,  86762.79334817, 151013.87122504, 178680.75426468,\n",
              "        58832.90568039, 129182.77724446,  50453.5967477 ,  53683.32725397])"
            ]
          },
          "metadata": {},
          "execution_count": 83
        }
      ]
    },
    {
      "cell_type": "code",
      "source": [
        "sns.histplot(reg_pred - y_test, kde=True)"
      ],
      "metadata": {
        "colab": {
          "base_uri": "https://localhost:8080/",
          "height": 466
        },
        "id": "bUKbcJppar3A",
        "outputId": "dc8e4200-8d3f-48c3-89a2-5fb6da006522"
      },
      "execution_count": 84,
      "outputs": [
        {
          "output_type": "execute_result",
          "data": {
            "text/plain": [
              "<Axes: xlabel='Profit', ylabel='Count'>"
            ]
          },
          "metadata": {},
          "execution_count": 84
        },
        {
          "output_type": "display_data",
          "data": {
            "text/plain": [
              "<Figure size 640x480 with 1 Axes>"
            ],
            "image/png": "[encoded data removed]"
          },
          "metadata": {}
        }
      ]
    },
    {
      "cell_type": "code",
      "source": [
        "# Calculating R Squared Value\n",
        "from sklearn.metrics import r2_score\n",
        "r2 = r2_score(y_test, reg_pred)"
      ],
      "metadata": {
        "id": "4JZom_wCeh6J"
      },
      "execution_count": 89,
      "outputs": []
    },
    {
      "cell_type": "code",
      "source": [
        "# Save the model and scaler\n",
        "joblib.dump(regression, 'linear_regression_model.pkl')\n",
        "joblib.dump(scaler, 'scaler.pkl')"
      ],
      "metadata": {
        "colab": {
          "base_uri": "https://localhost:8080/"
        },
        "id": "0nmRqlKhfyFF",
        "outputId": "06293994-7864-429d-bf7c-3809e7538877"
      },
      "execution_count": 90,
      "outputs": [
        {
          "output_type": "execute_result",
          "data": {
            "text/plain": [
              "['scaler.pkl']"
            ]
          },
          "metadata": {},
          "execution_count": 90
        }
      ]
    },
    {
      "cell_type": "code",
      "source": [
        "# Function to predict profit based on new input factors\n",
        "def predict_profit(RD_Spend, Administration, Marketing_Spend):\n",
        "    # Load the model and scaler\n",
        "    regression_model = joblib.load('linear_regression_model.pkl')\n",
        "    scaler = joblib.load('scaler.pkl')\n",
        "\n",
        "    # Prepare the input data\n",
        "    input_data = np.array([[RD_Spend, Administration, Marketing_Spend]])\n",
        "    input_data_scaled = scaler.transform(input_data)\n",
        "\n",
        "    # Make the prediction\n",
        "    predicted_profit = regression_model.predict(input_data_scaled)[0]\n",
        "    return predicted_profit"
      ],
      "metadata": {
        "id": "BtkhLi7uf09q"
      },
      "execution_count": 91,
      "outputs": []
    },
    {
      "cell_type": "code",
      "source": [
        "# Example usage\n",
        "RD_Spend = 150056\n",
        "Administration = 126700\n",
        "Marketing_Spend = 302344\n",
        "\n",
        "predicted_profit = predict_profit(RD_Spend, Administration, Marketing_Spend)\n",
        "print(f\"Predicted profit is: {predicted_profit:.2f}\")\n",
        "print(f\"Model accuracy (R-squared value): {r2:.2f}\")"
      ],
      "metadata": {
        "colab": {
          "base_uri": "https://localhost:8080/"
        },
        "id": "rNb7XeH1f_eo",
        "outputId": "5bf39efa-e740-4248-dd4b-b4c102c327cb"
      },
      "execution_count": 94,
      "outputs": [
        {
          "output_type": "stream",
          "name": "stdout",
          "text": [
            "Predicted profit is: 170807.42\n",
            "Model accuracy (R-squared value): 0.95\n"
          ]
        },
        {
          "output_type": "stream",
          "name": "stderr",
          "text": [
            "/usr/local/lib/python3.10/dist-packages/sklearn/base.py:439: UserWarning: X does not have valid feature names, but StandardScaler was fitted with feature names\n",
            "  warnings.warn(\n"
          ]
        }
      ]
    }
  ]
}